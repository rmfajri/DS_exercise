{
 "cells": [
  {
   "cell_type": "markdown",
   "metadata": {},
   "source": [
    "#### Import the required library"
   ]
  },
  {
   "cell_type": "code",
   "execution_count": 38,
   "metadata": {},
   "outputs": [],
   "source": [
    "#Import required libraries \n",
    "import seaborn as sns\n",
    "import pandas as pd\n",
    "import numpy as np\n",
    "\n",
    "from tensorflow.keras.layers import Input, Dense, Dropout, Activation\n",
    "from tensorflow.keras.models import Model"
   ]
  },
  {
   "cell_type": "markdown",
   "metadata": {},
   "source": [
    "#### Read Iris Dataset from sns"
   ]
  },
  {
   "cell_type": "code",
   "execution_count": 39,
   "metadata": {},
   "outputs": [],
   "source": [
    "dataset = sns.load_dataset('iris')\n",
    "X = dataset.drop(['species'], axis=1)\n",
    "y = pd.get_dummies(dataset.species, prefix='output')"
   ]
  },
  {
   "cell_type": "code",
   "execution_count": 40,
   "metadata": {},
   "outputs": [],
   "source": [
    "X = X.values\n",
    "y = y.values"
   ]
  },
  {
   "cell_type": "markdown",
   "metadata": {},
   "source": [
    "#### Split the dataset into training, test"
   ]
  },
  {
   "cell_type": "code",
   "execution_count": 41,
   "metadata": {},
   "outputs": [],
   "source": [
    "from sklearn.model_selection import train_test_split\n",
    "X_train, X_test, y_train, y_test = train_test_split(X, y, test_size=0.20, random_state=39)"
   ]
  },
  {
   "cell_type": "markdown",
   "metadata": {},
   "source": [
    "#### Scaling the dataset"
   ]
  },
  {
   "cell_type": "code",
   "execution_count": 52,
   "metadata": {},
   "outputs": [],
   "source": [
    "from sklearn.preprocessing import StandardScaler\n",
    "sc = StandardScaler()\n",
    "X_train = sc.fit_transform(X_train)\n",
    "X_test = sc.transform(X_test)"
   ]
  },
  {
   "cell_type": "markdown",
   "metadata": {},
   "source": [
    "#### Define the model, with 3 layers(Input layer =10 neurons, hidden layer=18, and output layer=3)"
   ]
  },
  {
   "cell_type": "code",
   "execution_count": 53,
   "metadata": {},
   "outputs": [],
   "source": [
    "from tensorflow.keras import Sequential\n",
    "from tensorflow.keras.layers import Dense\n",
    "# define the model\n",
    "model = Sequential()\n",
    "model.add(Dense(10, activation='relu', kernel_initializer='he_normal', input_shape=(4,)))\n",
    "model.add(Dense(18, activation='relu', kernel_initializer='he_normal'))\n",
    "model.add(Dense(3, activation='softmax'))"
   ]
  },
  {
   "cell_type": "markdown",
   "metadata": {},
   "source": [
    "#### Compile the model with loss =categorical_crossentropy and optimizer=adam metrics=accuracy"
   ]
  },
  {
   "cell_type": "code",
   "execution_count": 55,
   "metadata": {},
   "outputs": [],
   "source": [
    "model.compile(loss='categorical_crossentropy', optimizer='adam', metrics=['acc'])"
   ]
  },
  {
   "cell_type": "markdown",
   "metadata": {},
   "source": [
    "#### Fit the data to the model, batch_size=4, epochs=20"
   ]
  },
  {
   "cell_type": "code",
   "execution_count": 57,
   "metadata": {},
   "outputs": [
    {
     "name": "stdout",
     "output_type": "stream",
     "text": [
      "Train on 96 samples, validate on 24 samples\n",
      "Epoch 1/20\n",
      "96/96 [==============================] - 0s 644us/sample - loss: 0.2666 - acc: 0.8958 - val_loss: 0.4847 - val_acc: 0.8750\n",
      "Epoch 2/20\n",
      "96/96 [==============================] - 0s 737us/sample - loss: 0.2540 - acc: 0.8854 - val_loss: 0.4792 - val_acc: 0.8750\n",
      "Epoch 3/20\n",
      "96/96 [==============================] - 0s 530us/sample - loss: 0.2410 - acc: 0.9062 - val_loss: 0.4734 - val_acc: 0.8750\n",
      "Epoch 4/20\n",
      "96/96 [==============================] - 0s 551us/sample - loss: 0.2299 - acc: 0.9167 - val_loss: 0.4664 - val_acc: 0.8750\n",
      "Epoch 5/20\n",
      "96/96 [==============================] - 0s 509us/sample - loss: 0.2190 - acc: 0.9375 - val_loss: 0.4598 - val_acc: 0.8750\n",
      "Epoch 6/20\n",
      "96/96 [==============================] - 0s 499us/sample - loss: 0.2064 - acc: 0.9375 - val_loss: 0.4547 - val_acc: 0.8750\n",
      "Epoch 7/20\n",
      "96/96 [==============================] - 0s 540us/sample - loss: 0.1986 - acc: 0.9375 - val_loss: 0.4569 - val_acc: 0.8750\n",
      "Epoch 8/20\n",
      "96/96 [==============================] - 0s 582us/sample - loss: 0.1853 - acc: 0.9583 - val_loss: 0.4468 - val_acc: 0.8750\n",
      "Epoch 9/20\n",
      "96/96 [==============================] - 0s 499us/sample - loss: 0.1753 - acc: 0.9688 - val_loss: 0.4382 - val_acc: 0.8750\n",
      "Epoch 10/20\n",
      "96/96 [==============================] - 0s 524us/sample - loss: 0.1664 - acc: 0.9792 - val_loss: 0.4358 - val_acc: 0.8750\n",
      "Epoch 11/20\n",
      "96/96 [==============================] - 0s 540us/sample - loss: 0.1572 - acc: 0.9792 - val_loss: 0.4325 - val_acc: 0.8750\n",
      "Epoch 12/20\n",
      "96/96 [==============================] - 0s 499us/sample - loss: 0.1487 - acc: 0.9792 - val_loss: 0.4293 - val_acc: 0.8750\n",
      "Epoch 13/20\n",
      "96/96 [==============================] - 0s 519us/sample - loss: 0.1414 - acc: 0.9792 - val_loss: 0.4298 - val_acc: 0.8750\n",
      "Epoch 14/20\n",
      "96/96 [==============================] - 0s 467us/sample - loss: 0.1350 - acc: 0.9792 - val_loss: 0.4286 - val_acc: 0.8750\n",
      "Epoch 15/20\n",
      "96/96 [==============================] - 0s 454us/sample - loss: 0.1281 - acc: 0.9792 - val_loss: 0.4275 - val_acc: 0.8750\n",
      "Epoch 16/20\n",
      "96/96 [==============================] - 0s 442us/sample - loss: 0.1227 - acc: 0.9792 - val_loss: 0.4238 - val_acc: 0.8750\n",
      "Epoch 17/20\n",
      "96/96 [==============================] - 0s 499us/sample - loss: 0.1184 - acc: 0.9792 - val_loss: 0.4137 - val_acc: 0.8750\n",
      "Epoch 18/20\n",
      "96/96 [==============================] - 0s 424us/sample - loss: 0.1122 - acc: 0.9792 - val_loss: 0.4227 - val_acc: 0.8750\n",
      "Epoch 19/20\n",
      "96/96 [==============================] - 0s 457us/sample - loss: 0.1082 - acc: 0.9792 - val_loss: 0.4141 - val_acc: 0.8750\n",
      "Epoch 20/20\n",
      "96/96 [==============================] - 0s 468us/sample - loss: 0.1033 - acc: 0.9792 - val_loss: 0.4084 - val_acc: 0.8750\n",
      "30/1 [====================================================================================================================================================================================================================================================================================================================================================================================================================================================================================================================================================================================================================================================================================================================================================================================================================================================================================================================================] - 0s 100us/sample - loss: 0.1467 - acc: 0.9333\n"
     ]
    }
   ],
   "source": [
    "history = model.fit(X_train, y_train, batch_size=4, epochs=20, verbose=1, validation_split=0.20)\n",
    "\n",
    "score = model.evaluate(X_test, y_test, verbose=1)"
   ]
  },
  {
   "cell_type": "markdown",
   "metadata": {},
   "source": [
    "#### Evaluate the model, and print the accuracy"
   ]
  },
  {
   "cell_type": "code",
   "execution_count": 58,
   "metadata": {},
   "outputs": [
    {
     "name": "stdout",
     "output_type": "stream",
     "text": [
      "30/1 [====================================================================================================================================================================================================================================================================================================================================================================================================================================================================================================================================================================================================================================================================================================================================================================================================================================================================================================================================] - 0s 133us/sample - loss: 0.1467 - acc: 0.9333\n",
      "Test Accuracy: 0.93333334\n"
     ]
    }
   ],
   "source": [
    "score = model.evaluate(X_test, y_test, verbose=1)\n",
    "\n",
    "print(\"Test Accuracy:\", score[1])"
   ]
  },
  {
   "cell_type": "code",
   "execution_count": null,
   "metadata": {},
   "outputs": [],
   "source": []
  },
  {
   "cell_type": "code",
   "execution_count": null,
   "metadata": {},
   "outputs": [],
   "source": []
  }
 ],
 "metadata": {
  "kernelspec": {
   "display_name": "myenv",
   "language": "python",
   "name": "myenv"
  },
  "language_info": {
   "codemirror_mode": {
    "name": "ipython",
    "version": 3
   },
   "file_extension": ".py",
   "mimetype": "text/x-python",
   "name": "python",
   "nbconvert_exporter": "python",
   "pygments_lexer": "ipython3",
   "version": "3.7.9"
  }
 },
 "nbformat": 4,
 "nbformat_minor": 4
}
