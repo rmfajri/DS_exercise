{
 "cells": [
  {
   "cell_type": "markdown",
   "metadata": {},
   "source": [
    "#### Import library\n"
   ]
  },
  {
   "cell_type": "code",
   "execution_count": 35,
   "metadata": {},
   "outputs": [],
   "source": [
    "import tensorflow\n",
    "from tensorflow.keras.datasets import mnist\n",
    "from tensorflow.keras.models import Sequential\n",
    "from tensorflow.keras.layers import Dense, Dropout, Flatten\n",
    "from tensorflow.keras.layers import Conv2D, MaxPooling2D"
   ]
  },
  {
   "cell_type": "markdown",
   "metadata": {},
   "source": [
    "#### Import fashion mnist dataset"
   ]
  },
  {
   "cell_type": "code",
   "execution_count": 36,
   "metadata": {},
   "outputs": [],
   "source": [
    "# Load MNIST dataset\n",
    "(input_train, target_train), (input_test, target_test) = datasets.fashion_mnist.load_data()"
   ]
  },
  {
   "cell_type": "markdown",
   "metadata": {},
   "source": [
    "#### Reshape the data"
   ]
  },
  {
   "cell_type": "code",
   "execution_count": 37,
   "metadata": {},
   "outputs": [],
   "source": [
    "# Reshape data \n",
    "input_train = input_train.reshape(input_train.shape[0], 28, 28, 1)\n",
    "input_test = input_test.reshape(input_test.shape[0], 28, 28, 1)\n",
    "input_shape = (28, 28, 1) "
   ]
  },
  {
   "cell_type": "markdown",
   "metadata": {},
   "source": [
    "#### Parse the data"
   ]
  },
  {
   "cell_type": "code",
   "execution_count": 38,
   "metadata": {},
   "outputs": [],
   "source": [
    "# Parse numbers as floats\n",
    "input_train = input_train.astype('float32')\n",
    "input_test = input_test.astype('float32')\n",
    "\n",
    "# Convert into [0, 1] range.\n",
    "input_train = input_train / 255\n",
    "input_test = input_test / 255\n",
    "\n",
    "# Convert target vectors to categorical targets\n",
    "target_train = tensorflow.keras.utils.to_categorical(target_train, 10)\n",
    "target_test = tensorflow.keras.utils.to_categorical(target_test, 10)"
   ]
  },
  {
   "cell_type": "markdown",
   "metadata": {},
   "source": [
    "#### Create the model"
   ]
  },
  {
   "cell_type": "code",
   "execution_count": 39,
   "metadata": {},
   "outputs": [],
   "source": [
    "# Create the model\n",
    "model = Sequential()\n",
    "model.add(Conv2D(32, kernel_size=(3, 3), activation='relu', input_shape=input_shape))\n",
    "model.add(MaxPooling2D(pool_size=(2, 2)))\n",
    "model.add(Dropout(0.25))\n",
    "model.add(Conv2D(64, kernel_size=(3, 3), activation='relu'))\n",
    "model.add(MaxPooling2D(pool_size=(2, 2)))\n",
    "model.add(Dropout(0.25))\n",
    "model.add(Flatten())\n",
    "model.add(Dense(256, activation='relu'))\n",
    "model.add(Dense(no_classes, activation='softmax'))"
   ]
  },
  {
   "cell_type": "markdown",
   "metadata": {},
   "source": [
    "#### Compile the data"
   ]
  },
  {
   "cell_type": "code",
   "execution_count": 40,
   "metadata": {},
   "outputs": [],
   "source": [
    "# Compile the model\n",
    "model.compile(loss=tensorflow.keras.losses.categorical_crossentropy,\n",
    "              optimizer=tensorflow.keras.optimizers.Adam(),\n",
    "              metrics=['accuracy'])"
   ]
  },
  {
   "cell_type": "markdown",
   "metadata": {},
   "source": [
    "#### Fit the data to the model"
   ]
  },
  {
   "cell_type": "code",
   "execution_count": 41,
   "metadata": {},
   "outputs": [
    {
     "name": "stdout",
     "output_type": "stream",
     "text": [
      "Train on 48000 samples, validate on 12000 samples\n",
      "Epoch 1/25\n",
      "48000/48000 [==============================] - 21s 446us/sample - loss: 0.7062 - accuracy: 0.7430 - val_loss: 0.4855 - val_accuracy: 0.8242\n",
      "Epoch 2/25\n",
      "48000/48000 [==============================] - 22s 448us/sample - loss: 0.4627 - accuracy: 0.8319 - val_loss: 0.4093 - val_accuracy: 0.8549\n",
      "Epoch 3/25\n",
      "48000/48000 [==============================] - 21s 432us/sample - loss: 0.4073 - accuracy: 0.8513 - val_loss: 0.3676 - val_accuracy: 0.8740\n",
      "Epoch 4/25\n",
      "48000/48000 [==============================] - 21s 427us/sample - loss: 0.3703 - accuracy: 0.8652 - val_loss: 0.3372 - val_accuracy: 0.8808\n",
      "Epoch 5/25\n",
      "48000/48000 [==============================] - 20s 418us/sample - loss: 0.3387 - accuracy: 0.8766 - val_loss: 0.3183 - val_accuracy: 0.8875\n",
      "Epoch 6/25\n",
      "48000/48000 [==============================] - 20s 417us/sample - loss: 0.3189 - accuracy: 0.8817 - val_loss: 0.3078 - val_accuracy: 0.8892\n",
      "Epoch 7/25\n",
      "48000/48000 [==============================] - 20s 424us/sample - loss: 0.3022 - accuracy: 0.8887 - val_loss: 0.2841 - val_accuracy: 0.8973\n",
      "Epoch 8/25\n",
      "48000/48000 [==============================] - 22s 467us/sample - loss: 0.2851 - accuracy: 0.8962 - val_loss: 0.2821 - val_accuracy: 0.8981\n",
      "Epoch 9/25\n",
      "48000/48000 [==============================] - 19s 403us/sample - loss: 0.2733 - accuracy: 0.8995 - val_loss: 0.2750 - val_accuracy: 0.8993\n",
      "Epoch 10/25\n",
      "48000/48000 [==============================] - 20s 408us/sample - loss: 0.2644 - accuracy: 0.9031 - val_loss: 0.2646 - val_accuracy: 0.9053\n",
      "Epoch 11/25\n",
      "48000/48000 [==============================] - 20s 415us/sample - loss: 0.2523 - accuracy: 0.9059 - val_loss: 0.2559 - val_accuracy: 0.9061\n",
      "Epoch 12/25\n",
      "48000/48000 [==============================] - 20s 424us/sample - loss: 0.2443 - accuracy: 0.9087 - val_loss: 0.2543 - val_accuracy: 0.9065\n",
      "Epoch 13/25\n",
      "48000/48000 [==============================] - 22s 458us/sample - loss: 0.2382 - accuracy: 0.9108 - val_loss: 0.2471 - val_accuracy: 0.9101\n",
      "Epoch 14/25\n",
      "48000/48000 [==============================] - 24s 499us/sample - loss: 0.2280 - accuracy: 0.9165 - val_loss: 0.2564 - val_accuracy: 0.9071\n",
      "Epoch 15/25\n",
      "48000/48000 [==============================] - 23s 481us/sample - loss: 0.2199 - accuracy: 0.9181 - val_loss: 0.2383 - val_accuracy: 0.9143\n",
      "Epoch 16/25\n",
      "48000/48000 [==============================] - 22s 451us/sample - loss: 0.2122 - accuracy: 0.9213 - val_loss: 0.2368 - val_accuracy: 0.9133\n",
      "Epoch 17/25\n",
      "48000/48000 [==============================] - 20s 419us/sample - loss: 0.2064 - accuracy: 0.9236 - val_loss: 0.2354 - val_accuracy: 0.9126\n",
      "Epoch 18/25\n",
      "48000/48000 [==============================] - 19s 406us/sample - loss: 0.1989 - accuracy: 0.9252 - val_loss: 0.2347 - val_accuracy: 0.9137\n",
      "Epoch 19/25\n",
      "48000/48000 [==============================] - 21s 432us/sample - loss: 0.1973 - accuracy: 0.9263 - val_loss: 0.2312 - val_accuracy: 0.9157\n",
      "Epoch 20/25\n",
      "48000/48000 [==============================] - 19s 403us/sample - loss: 0.1885 - accuracy: 0.9289 - val_loss: 0.2289 - val_accuracy: 0.9170\n",
      "Epoch 21/25\n",
      "48000/48000 [==============================] - 20s 424us/sample - loss: 0.1804 - accuracy: 0.9334 - val_loss: 0.2374 - val_accuracy: 0.9121\n",
      "Epoch 22/25\n",
      "48000/48000 [==============================] - 21s 433us/sample - loss: 0.1760 - accuracy: 0.9327 - val_loss: 0.2241 - val_accuracy: 0.9190\n",
      "Epoch 23/25\n",
      "48000/48000 [==============================] - 21s 428us/sample - loss: 0.1723 - accuracy: 0.9356 - val_loss: 0.2335 - val_accuracy: 0.9144\n",
      "Epoch 24/25\n",
      "48000/48000 [==============================] - 20s 426us/sample - loss: 0.1667 - accuracy: 0.9379 - val_loss: 0.2259 - val_accuracy: 0.9192\n",
      "Epoch 25/25\n",
      "48000/48000 [==============================] - 20s 421us/sample - loss: 0.1656 - accuracy: 0.9373 - val_loss: 0.2267 - val_accuracy: 0.9182\n"
     ]
    },
    {
     "data": {
      "text/plain": [
       "<tensorflow.python.keras.callbacks.History at 0x22b42a6f708>"
      ]
     },
     "execution_count": 41,
     "metadata": {},
     "output_type": "execute_result"
    }
   ],
   "source": [
    "# Fit data to model\n",
    "model.fit(input_train, target_train,\n",
    "          batch_size=32,\n",
    "          epochs=10,\n",
    "          verbose=1,\n",
    "          validation_split=0.2)"
   ]
  },
  {
   "cell_type": "markdown",
   "metadata": {},
   "source": [
    "#### Evaluate the model to the test dataset"
   ]
  },
  {
   "cell_type": "code",
   "execution_count": 42,
   "metadata": {},
   "outputs": [
    {
     "name": "stdout",
     "output_type": "stream",
     "text": [
      "Test loss: 0.2291536349594593 / Test accuracy: 0.9172999858856201\n"
     ]
    }
   ],
   "source": [
    "# Generate generalization metrics\n",
    "score = model.evaluate(input_test, target_test, verbose=0)\n",
    "print(f'Test loss: {score[0]} / Test accuracy: {score[1]}')"
   ]
  },
  {
   "cell_type": "code",
   "execution_count": null,
   "metadata": {},
   "outputs": [],
   "source": []
  }
 ],
 "metadata": {
  "kernelspec": {
   "display_name": "myenv",
   "language": "python",
   "name": "myenv"
  },
  "language_info": {
   "codemirror_mode": {
    "name": "ipython",
    "version": 3
   },
   "file_extension": ".py",
   "mimetype": "text/x-python",
   "name": "python",
   "nbconvert_exporter": "python",
   "pygments_lexer": "ipython3",
   "version": "3.7.9"
  }
 },
 "nbformat": 4,
 "nbformat_minor": 4
}
