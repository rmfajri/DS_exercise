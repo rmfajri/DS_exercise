{
 "cells": [
  {
   "cell_type": "markdown",
   "metadata": {},
   "source": [
    "#### 1. Consider d is 15 write python code to check the data type of d"
   ]
  },
  {
   "cell_type": "code",
   "execution_count": 2,
   "metadata": {},
   "outputs": [
    {
     "name": "stdout",
     "output_type": "stream",
     "text": [
      "<class 'int'>\n"
     ]
    }
   ],
   "source": [
    "d=15\n",
    "print(type(d))"
   ]
  },
  {
   "cell_type": "markdown",
   "metadata": {},
   "source": [
    "#### 2. Print a string with a float at the same line"
   ]
  },
  {
   "cell_type": "code",
   "execution_count": 4,
   "metadata": {},
   "outputs": [
    {
     "name": "stdout",
     "output_type": "stream",
     "text": [
      "the area of the curve is 0.5\n"
     ]
    }
   ],
   "source": [
    "float_data=0.5\n",
    "print(\"the area of the curve is {}\".format(float_data))"
   ]
  },
  {
   "cell_type": "markdown",
   "metadata": {},
   "source": [
    "#### 3. Calculate the area of a circle pi=3.14 r=25"
   ]
  },
  {
   "cell_type": "code",
   "execution_count": 5,
   "metadata": {},
   "outputs": [
    {
     "name": "stdout",
     "output_type": "stream",
     "text": [
      "Area of the circle is 1962.5\n"
     ]
    }
   ],
   "source": [
    "print(\"Area of the circle is {}\".format(3.14*(25**2)))"
   ]
  },
  {
   "cell_type": "markdown",
   "metadata": {},
   "source": [
    "#### 4. Given two integer, calculate the product, if the product more than 500 return the sum"
   ]
  },
  {
   "cell_type": "code",
   "execution_count": 7,
   "metadata": {},
   "outputs": [
    {
     "name": "stdout",
     "output_type": "stream",
     "text": [
      "Enter First Integer : 12\n",
      "Enter Second Integer : 5\n",
      "60\n"
     ]
    }
   ],
   "source": [
    "int1=int(input(\"Enter First Integer : \"))\n",
    "int2=int(input(\"Enter Second Integer : \"))\n",
    "product=int1*int2\n",
    "if product > 500:\n",
    "    print (int1+int2)\n",
    "else :\n",
    "    print (product)"
   ]
  },
  {
   "cell_type": "markdown",
   "metadata": {},
   "source": [
    "#### 5. Print odd number from 1 to 100"
   ]
  },
  {
   "cell_type": "code",
   "execution_count": 20,
   "metadata": {},
   "outputs": [
    {
     "name": "stdout",
     "output_type": "stream",
     "text": [
      "1 3 5 7 9 11 13 15 17 19 21 23 25 27 29 31 33 35 37 39 41 43 45 47 49 51 53 55 57 59 61 63 65 67 69 71 73 75 77 79 81 83 85 87 89 91 93 95 97 99 "
     ]
    }
   ],
   "source": [
    "for i in range(1,100):\n",
    "    if i % 2 !=0:\n",
    "        print(i,end=' ')"
   ]
  },
  {
   "cell_type": "markdown",
   "metadata": {},
   "source": [
    "#### 6. Write a Python program that prints all the numbers from 0 to 6 except 3 and 6"
   ]
  },
  {
   "cell_type": "code",
   "execution_count": 11,
   "metadata": {},
   "outputs": [
    {
     "name": "stdout",
     "output_type": "stream",
     "text": [
      "0 1 2 4 5 "
     ]
    }
   ],
   "source": [
    "for i in range(0,6):\n",
    "    if i==3 or i==6:\n",
    "        continue\n",
    "    print(i,end=' ')\n",
    "    "
   ]
  },
  {
   "cell_type": "markdown",
   "metadata": {},
   "source": [
    "#### 7. Fibonaci Series"
   ]
  },
  {
   "cell_type": "code",
   "execution_count": 15,
   "metadata": {},
   "outputs": [
    {
     "name": "stdout",
     "output_type": "stream",
     "text": [
      "1 1 2 3 5 8 13 21 34 "
     ]
    }
   ],
   "source": [
    "x=0\n",
    "y=1\n",
    "while y<50:\n",
    "    print(y, end=' ')\n",
    "    x,y=y,x+y"
   ]
  },
  {
   "cell_type": "markdown",
   "metadata": {},
   "source": [
    "#### 8. write a Python program that accepts a word from the user and reverse it. For example hello world = dlrow olleh"
   ]
  },
  {
   "cell_type": "code",
   "execution_count": 16,
   "metadata": {
    "scrolled": true
   },
   "outputs": [
    {
     "name": "stdout",
     "output_type": "stream",
     "text": [
      "Input a word to reverse: hellow world\n",
      "dlrow wolleh\n",
      "\n"
     ]
    }
   ],
   "source": [
    "word = input(\"Input a word to reverse: \")\n",
    "\n",
    "for char in range(len(word) - 1, -1, -1):\n",
    "    print(word[char], end=\"\")\n",
    "print(\"\\n\")"
   ]
  },
  {
   "cell_type": "markdown",
   "metadata": {},
   "source": [
    "#### 9. Write a Python program that accepts a string and calculate the number of digits and letters \\\\\n",
    "  "
   ]
  },
  {
   "cell_type": "code",
   "execution_count": 18,
   "metadata": {},
   "outputs": [
    {
     "name": "stdout",
     "output_type": "stream",
     "text": [
      "Input a stringPython 3.7.4 is the best\n",
      "Letters 15\n",
      "Digits 3\n"
     ]
    }
   ],
   "source": [
    "s = input(\"Input a string\")\n",
    "d=l=0\n",
    "for c in s:\n",
    "    if c.isdigit():\n",
    "        d=d+1\n",
    "    elif c.isalpha():\n",
    "        l=l+1\n",
    "    else:\n",
    "        pass\n",
    "print(\"Letters\", l)\n",
    "print(\"Digits\", d)"
   ]
  },
  {
   "cell_type": "markdown",
   "metadata": {},
   "source": [
    "#### 10. Write a Python program to find numbers between 100 and 400 (both included) where each digit of a number is an even number. The numbers obtained should be printed in a comma-separated sequence."
   ]
  },
  {
   "cell_type": "code",
   "execution_count": 19,
   "metadata": {},
   "outputs": [
    {
     "name": "stdout",
     "output_type": "stream",
     "text": [
      "200,202,204,206,208,220,222,224,226,228,240,242,244,246,248,260,262,264,266,268,280,282,284,286,288,400\n"
     ]
    }
   ],
   "source": [
    "items = []\n",
    "for i in range(100, 401):\n",
    "    s = str(i)\n",
    "    if (int(s[0])%2==0) and (int(s[1])%2==0) and (int(s[2])%2==0):\n",
    "        items.append(s)\n",
    "print( \",\".join(items))"
   ]
  },
  {
   "cell_type": "code",
   "execution_count": null,
   "metadata": {},
   "outputs": [],
   "source": []
  }
 ],
 "metadata": {
  "kernelspec": {
   "display_name": "myenv",
   "language": "python",
   "name": "myenv"
  },
  "language_info": {
   "codemirror_mode": {
    "name": "ipython",
    "version": 3
   },
   "file_extension": ".py",
   "mimetype": "text/x-python",
   "name": "python",
   "nbconvert_exporter": "python",
   "pygments_lexer": "ipython3",
   "version": "3.7.9"
  }
 },
 "nbformat": 4,
 "nbformat_minor": 4
}
